{
 "cells": [
  {
   "cell_type": "code",
   "execution_count": 6,
   "metadata": {},
   "outputs": [
    {
     "name": "stdout",
     "output_type": "stream",
     "text": [
      "Desired password length:\n",
      "Enter the desired length of the password: 3.2\n",
      "3\n"
     ]
    }
   ],
   "source": [
    "# ask user the length of password\n",
    "# print(\"Desired password length:\")\n",
    "pass_len = int(float(input(\"Enter the desired length of the password: \")))\n",
    "print(pass_len)\n"
   ]
  },
  {
   "cell_type": "code",
   "execution_count": 5,
   "metadata": {},
   "outputs": [
    {
     "name": "stdout",
     "output_type": "stream",
     "text": [
      "Lowercase? (y/n)y\n"
     ]
    }
   ],
   "source": [
    "# Initialize a counter for invalid inputs\n",
    "invalid_count = 0\n",
    "\n",
    "lowercase_chars = ('abcdefghijklmnopqrstuvwxyz',)\n",
    "\n",
    "# Ask for lowercase option\n",
    "while True:\n",
    "    pas_low = input(\"Lowercase? (y/n)\")\n",
    "    if pas_low.lower() == 'y' or pas_low.lower() == 'n':\n",
    "        break\n",
    "    else:\n",
    "        invalid_count += 1\n",
    "        if invalid_count == 2:\n",
    "            print(\"Let's try again when you're not drunk...\")\n",
    "            break\n",
    "        print(\"Invalid input. Please enter 'y' or 'n'.\")\n"
   ]
  },
  {
   "cell_type": "code",
   "execution_count": 13,
   "metadata": {},
   "outputs": [
    {
     "name": "stdout",
     "output_type": "stream",
     "text": [
      "Uppercase? (y/n)n\n"
     ]
    }
   ],
   "source": [
    "# Reset counter for invalid inputs\n",
    "invalid_count = 0\n",
    "\n",
    "uppercase_chars = ('ABCDEFGHIJKLMNOPQRSTUVWXYZ',)\n",
    "\n",
    "# Ask for uppercase option\n",
    "while True:\n",
    "    pas_caps = input(\"Uppercase? (y/n)\")\n",
    "    if pas_caps.lower() == 'y' or pas_caps.lower() == 'n':\n",
    "        break\n",
    "    else:\n",
    "        invalid_count += 1\n",
    "        if invalid_count == 2:\n",
    "            print(\"Let's try again when you're not drunk...\")\n",
    "            break\n",
    "        print(\"Invalid input. Please enter 'y' or 'n'.\")\n"
   ]
  },
  {
   "cell_type": "code",
   "execution_count": 14,
   "metadata": {},
   "outputs": [
    {
     "name": "stdout",
     "output_type": "stream",
     "text": [
      "Numbers? (y/n)y\n"
     ]
    }
   ],
   "source": [
    "# Reset counter for invalid inputs\n",
    "invalid_count = 0\n",
    "\n",
    "numbers = ('0123456789',)\n",
    "\n",
    "# Ask for numbers option\n",
    "while True:\n",
    "    pas_num = input(\"Numbers? (y/n)\")\n",
    "    if pas_num.lower() == 'y' or pas_num.lower() == 'n':\n",
    "        break\n",
    "    else:\n",
    "        invalid_count += 1\n",
    "        if invalid_count == 2:\n",
    "            print(\"Let's try again when you're not drunk...\")\n",
    "            break\n",
    "        print(\"Invalid input. Please enter 'y' or 'n'.\")\n"
   ]
  },
  {
   "cell_type": "code",
   "execution_count": 1,
   "metadata": {},
   "outputs": [],
   "source": [
    "## Reset counter for invalid inputs\n",
    "invalid_count = 0\n",
    "\n",
    "special_chars = ('!@#$%^&*()_+[]{}|;:,.<>?',)\n",
    "\n",
    "# Ask for special characters option\n",
    "while True:\n",
    "    pas_special = input(\"Special characters? (y/n)\")\n",
    "    if pas_special.lower() == 'y' or pas_special.lower() == 'n':\n",
    "        break\n",
    "    else:\n",
    "        invalid_count += 1\n",
    "        if invalid_count == 2:\n",
    "            print(\"Let's try again when you're not drunk...\")\n",
    "            break\n",
    "        print(\"Invalid input. Please enter 'y' or 'n'.\")"
   ]
  },
  {
   "cell_type": "code",
   "execution_count": null,
   "metadata": {},
   "outputs": [],
   "source": [
    "def get_valid_input(prompt):\n",
    "    while True:\n",
    "        user_input = input(prompt).strip().lower()\n",
    "        if user_input == 'y' or user_input == 'n':\n",
    "            return user_input\n",
    "        print(\"Invalid input. Please enter 'y' or 'n'.\")\n",
    "    \n",
    "# Ask for password length\n",
    "pass_len = int(input(\"Enter the desired length of the password: \"))\n",
    "\n",
    "# Ask for lowercase option\n",
    "pas_low = get_valid_input(\"Include lowercase characters? (y/n): \")\n",
    "\n",
    "# Ask for uppercase option\n",
    "pas_caps = get_valid_input(\"Include uppercase characters? (y/n): \")\n",
    "\n",
    "# Ask for numbers option\n",
    "pas_num = get_valid_input(\"Include numbers? (y/n): \")\n",
    "\n",
    "# Ask for special characters option\n",
    "pas_special = get_valid_input(\"Include special characters? (y/n): \")\n",
    "\n",
    "# Define tuples for each part of the password\n",
    "lowercase_chars = 'abcdefghijklmnopqrstuvwxyz'\n",
    "uppercase_chars = 'ABCDEFGHIJKLMNOPQRSTUVWXYZ'\n",
    "numbers = '0123456789'\n",
    "special_chars = '!@#$%^&*()_+[]{}|;:,.<>?'\n",
    "\n"
   ]
  }
 ],
 "metadata": {
  "kernelspec": {
   "display_name": "Python 3",
   "language": "python",
   "name": "python3"
  },
  "language_info": {
   "codemirror_mode": {
    "name": "ipython",
    "version": 3
   },
   "file_extension": ".py",
   "mimetype": "text/x-python",
   "name": "python",
   "nbconvert_exporter": "python",
   "pygments_lexer": "ipython3",
   "version": "3.7.3"
  }
 },
 "nbformat": 4,
 "nbformat_minor": 5
}
